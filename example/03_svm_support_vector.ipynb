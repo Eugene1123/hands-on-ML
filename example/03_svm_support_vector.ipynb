{
 "cells": [
  {
   "cell_type": "markdown",
   "metadata": {},
   "source": [
    "SVM: Maximum margin separating hyperplane\n",
    "=========================================\n",
    "\n",
    "Plot the maximum margin separating hyperplane within a two-class\n",
    "separable dataset using a Support Vector Machine classifier with\n",
    "linear kernel.\n"
   ]
  },
  {
   "cell_type": "code",
   "execution_count": 1,
   "metadata": {
    "collapsed": true
   },
   "outputs": [],
   "source": [
    "import numpy as np\n",
    "import matplotlib.pyplot as plt\n",
    "from sklearn import svm\n",
    "%matplotlib inline"
   ]
  },
  {
   "cell_type": "code",
   "execution_count": 2,
   "metadata": {
    "collapsed": true
   },
   "outputs": [],
   "source": [
    "''' create 40 separable points ''' \n",
    "np.random.seed(0)\n",
    "X = np.r_[np.random.randn(20, 2) - [2, 2], np.random.randn(20, 2) + [2, 2]]\n",
    "Y = [0] * 20 + [1] * 20"
   ]
  },
  {
   "cell_type": "code",
   "execution_count": 3,
   "metadata": {
    "collapsed": false
   },
   "outputs": [
    {
     "data": {
      "text/plain": [
       "SVC(C=1.0, cache_size=200, class_weight=None, coef0=0.0,\n",
       "  decision_function_shape=None, degree=3, gamma='auto', kernel='linear',\n",
       "  max_iter=-1, probability=False, random_state=None, shrinking=True,\n",
       "  tol=0.001, verbose=False)"
      ]
     },
     "execution_count": 3,
     "metadata": {},
     "output_type": "execute_result"
    }
   ],
   "source": [
    "# fit the model\n",
    "clf = svm.SVC(kernel='linear')\n",
    "clf.fit(X, Y)"
   ]
  },
  {
   "cell_type": "code",
   "execution_count": 4,
   "metadata": {
    "collapsed": false
   },
   "outputs": [
    {
     "data": {
      "text/plain": [
       "array([0, 0, 0, 0, 0, 0, 0, 0, 0, 0, 0, 0, 0, 0, 0, 0, 0, 0, 0, 0, 1, 1, 1,\n",
       "       1, 1, 1, 1, 1, 1, 1, 1, 1, 1, 1, 1, 1, 1, 1, 1, 1])"
      ]
     },
     "execution_count": 4,
     "metadata": {},
     "output_type": "execute_result"
    }
   ],
   "source": [
    "clf.predict(X)"
   ]
  },
  {
   "cell_type": "code",
   "execution_count": 5,
   "metadata": {
    "collapsed": true
   },
   "outputs": [],
   "source": [
    "# get the separating hyperplane\n",
    "w = clf.coef_[0]\n",
    "a = -w[0] / w[1]\n",
    "xx = np.linspace(-5, 5)\n",
    "yy = a * xx - (clf.intercept_[0]) / w[1]\n",
    "\n",
    "# generate the parallels to the separating hyperplane that pass through the support vectors\n",
    "b = clf.support_vectors_[0]\n",
    "yy_down = a * xx + (b[1] - a * b[0])\n",
    "b = clf.support_vectors_[-1]\n",
    "yy_up = a * xx + (b[1] - a * b[0])"
   ]
  },
  {
   "cell_type": "code",
   "execution_count": 6,
   "metadata": {
    "collapsed": false
   },
   "outputs": [
    {
     "data": {
      "image/png": "[encoded data removed]",
      "text/plain": [
       "<matplotlib.figure.Figure at 0x556a316128>"
      ]
     },
     "metadata": {},
     "output_type": "display_data"
    }
   ],
   "source": [
    "# plot the hyper planes\n",
    "plt.plot(xx, yy, 'k-')\n",
    "plt.plot(xx, yy_down, 'k--')\n",
    "plt.plot(xx, yy_up, 'k--')\n",
    "\n",
    "# plot the support vectors\n",
    "plt.scatter(clf.support_vectors_[:, 0], clf.support_vectors_[:, 1],\n",
    "            s=200, facecolors='black')\n",
    "\n",
    "# plot all points\n",
    "plt.scatter(X[:, 0], X[:, 1], c=Y, cmap=plt.cm.Paired)\n",
    "\n",
    "plt.axis('tight')\n",
    "plt.show()"
   ]
  },
  {
   "cell_type": "markdown",
   "metadata": {},
   "source": [
    "### use Probability=True and output the predicted class probability"
   ]
  },
  {
   "cell_type": "code",
   "execution_count": 7,
   "metadata": {
    "collapsed": false
   },
   "outputs": [
    {
     "data": {
      "text/plain": [
       "SVC(C=1.0, cache_size=200, class_weight=None, coef0=0.0,\n",
       "  decision_function_shape=None, degree=3, gamma='auto', kernel='linear',\n",
       "  max_iter=-1, probability=True, random_state=None, shrinking=True,\n",
       "  tol=0.001, verbose=False)"
      ]
     },
     "execution_count": 7,
     "metadata": {},
     "output_type": "execute_result"
    }
   ],
   "source": [
    "# fit the model\n",
    "clf = svm.SVC(kernel='linear',probability=True)\n",
    "clf.fit(X, Y)"
   ]
  },
  {
   "cell_type": "code",
   "execution_count": 8,
   "metadata": {
    "collapsed": false
   },
   "outputs": [
    {
     "data": {
      "text/plain": [
       "array([0, 0, 0, 0, 0, 0, 0, 0, 0, 0, 0, 0, 0, 0, 0, 0, 0, 0, 0, 0, 1, 1, 1,\n",
       "       1, 1, 1, 1, 1, 1, 1, 1, 1, 1, 1, 1, 1, 1, 1, 1, 1])"
      ]
     },
     "execution_count": 8,
     "metadata": {},
     "output_type": "execute_result"
    }
   ],
   "source": [
    "clf.predict(X)"
   ]
  },
  {
   "cell_type": "code",
   "execution_count": 9,
   "metadata": {
    "collapsed": false
   },
   "outputs": [
    {
     "data": {
      "text/plain": [
       "array([[  8.56496089e-01,   1.43503911e-01],\n",
       "       [  7.59386500e-01,   2.40613500e-01],\n",
       "       [  9.42312419e-01,   5.76875813e-02],\n",
       "       [  9.60422042e-01,   3.95779582e-02],\n",
       "       [  9.81583589e-01,   1.84164110e-02],\n",
       "       [  9.40741729e-01,   5.92582706e-02],\n",
       "       [  9.60092155e-01,   3.99078449e-02],\n",
       "       [  9.67106289e-01,   3.28937110e-02],\n",
       "       [  9.32307480e-01,   6.76925196e-02],\n",
       "       [  9.89718573e-01,   1.02814267e-02],\n",
       "       [  9.98759346e-01,   1.24065422e-03],\n",
       "       [  9.78282289e-01,   2.17177105e-02],\n",
       "       [  9.38226833e-01,   6.17731669e-02],\n",
       "       [  9.86785922e-01,   1.32140778e-02],\n",
       "       [  7.59436307e-01,   2.40563693e-01],\n",
       "       [  9.75694589e-01,   2.43054113e-02],\n",
       "       [  9.99052658e-01,   9.47341895e-04],\n",
       "       [  9.88896293e-01,   1.11037068e-02],\n",
       "       [  8.50178301e-01,   1.49821699e-01],\n",
       "       [  9.92829604e-01,   7.17039619e-03],\n",
       "       [  1.85364218e-01,   8.14635782e-01],\n",
       "       [  2.72999734e-02,   9.72700027e-01],\n",
       "       [  4.93829679e-02,   9.50617032e-01],\n",
       "       [  4.26281135e-02,   9.57371886e-01],\n",
       "       [  1.37115217e-01,   8.62884783e-01],\n",
       "       [  3.90680579e-02,   9.60931942e-01],\n",
       "       [  8.91679867e-02,   9.10832013e-01],\n",
       "       [  1.38420268e-02,   9.86157973e-01],\n",
       "       [  1.37728800e-02,   9.86227120e-01],\n",
       "       [  5.34581523e-02,   9.46541848e-01],\n",
       "       [  5.56485744e-02,   9.44351426e-01],\n",
       "       [  1.82618894e-01,   8.17381106e-01],\n",
       "       [  2.18228455e-02,   9.78177155e-01],\n",
       "       [  8.34416628e-02,   9.16558337e-01],\n",
       "       [  5.19828125e-02,   9.48017188e-01],\n",
       "       [  7.32381414e-03,   9.92676186e-01],\n",
       "       [  1.42898839e-02,   9.85710116e-01],\n",
       "       [  2.12831035e-02,   9.78716897e-01],\n",
       "       [  8.24410703e-02,   9.17558930e-01],\n",
       "       [  2.62611059e-02,   9.73738894e-01]])"
      ]
     },
     "execution_count": 9,
     "metadata": {},
     "output_type": "execute_result"
    }
   ],
   "source": [
    "clf.predict_proba(X)"
   ]
  },
  {
   "cell_type": "code",
   "execution_count": null,
   "metadata": {
    "collapsed": true
   },
   "outputs": [],
   "source": []
  }
 ],
 "metadata": {
  "kernelspec": {
   "display_name": "Python 3",
   "language": "python",
   "name": "python3"
  },
  "language_info": {
   "codemirror_mode": {
    "name": "ipython",
    "version": 3
   },
   "file_extension": ".py",
   "mimetype": "text/x-python",
   "name": "python",
   "nbconvert_exporter": "python",
   "pygments_lexer": "ipython3",
   "version": "3.6.0"
  }
 },
 "nbformat": 4,
 "nbformat_minor": 0
}
