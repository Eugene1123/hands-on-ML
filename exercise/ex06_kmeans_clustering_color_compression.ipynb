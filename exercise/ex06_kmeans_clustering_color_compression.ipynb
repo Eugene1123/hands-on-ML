{
 "cells": [
  {
   "cell_type": "markdown",
   "metadata": {},
   "source": [
    "# K-means clustering used in Color Compression"
   ]
  },
  {
   "cell_type": "markdown",
   "metadata": {},
   "source": [
    "- Here we group all pixels into 64 clusters, where each pixel is characterized by (R, G, B) 3 features\n",
    "- Please use MiniBatchKmeans instead because MiniBatchKmeans is more efficient while large data size"
   ]
  },
  {
   "cell_type": "code",
   "execution_count": null,
   "metadata": {
    "collapsed": true
   },
   "outputs": [],
   "source": [
    "%matplotlib inline\n",
    "import numpy as np\n",
    "import matplotlib.pyplot as plt\n",
    "from scipy import stats"
   ]
  },
  {
   "cell_type": "code",
   "execution_count": null,
   "metadata": {
    "collapsed": false
   },
   "outputs": [],
   "source": [
    "from sklearn.datasets import load_sample_image\n",
    "china = load_sample_image(\"china.jpg\")\n",
    "plt.imshow(china)\n",
    "plt.grid(False);"
   ]
  },
  {
   "cell_type": "code",
   "execution_count": null,
   "metadata": {
    "collapsed": false
   },
   "outputs": [],
   "source": [
    "china.shape"
   ]
  },
  {
   "cell_type": "code",
   "execution_count": null,
   "metadata": {
    "collapsed": false
   },
   "outputs": [],
   "source": [
    "X = (china / 255.0).reshape(-1, 3)\n",
    "print(X.shape)"
   ]
  },
  {
   "cell_type": "code",
   "execution_count": null,
   "metadata": {
    "collapsed": false
   },
   "outputs": [],
   "source": [
    "from sklearn.cluster import MiniBatchKMeans\n",
    "# compress into n_colors\n",
    "n_colors = \n",
    "\n",
    "# rescale into [0,] and flatten\n",
    "X = (china / 255.0).reshape(-1, 3)\n",
    "\n",
    "# create your model here\n",
    "model = '''please use MiniBatchKMeans here'''\n",
    "\n",
    "# fit\n",
    "'''do it here'''\n",
    "\n",
    "# get label\n",
    "labels = '''get cluster labels of X here'''\n",
    "\n",
    "# get the cluster center here\n",
    "colors = '''get cluster_centers_ here'''\n",
    "new_image = colors[labels].reshape(china.shape)\n",
    "new_image = (255 * new_image).astype(np.uint8)\n",
    "\n",
    "# create and plot the new image\n",
    "plt.figure()\n",
    "plt.imshow(china)\n",
    "plt.title('input: 16 million colors')\n",
    "\n",
    "plt.figure()\n",
    "plt.imshow(new_image)\n",
    "plt.title('{0} colors'.format(n_colors))"
   ]
  },
  {
   "cell_type": "code",
   "execution_count": null,
   "metadata": {
    "collapsed": true
   },
   "outputs": [],
   "source": []
  }
 ],
 "metadata": {
  "kernelspec": {
   "display_name": "Python 3",
   "language": "python",
   "name": "python3"
  },
  "language_info": {
   "codemirror_mode": {
    "name": "ipython",
    "version": 3
   },
   "file_extension": ".py",
   "mimetype": "text/x-python",
   "name": "python",
   "nbconvert_exporter": "python",
   "pygments_lexer": "ipython3",
   "version": "3.6.0"
  }
 },
 "nbformat": 4,
 "nbformat_minor": 2
}
